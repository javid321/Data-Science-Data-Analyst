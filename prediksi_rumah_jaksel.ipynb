{
 "cells": [
  {
   "cell_type": "code",
   "execution_count": 1,
   "id": "804a88f5",
   "metadata": {},
   "outputs": [],
   "source": [
    "import pandas as pd\n",
    "import numpy as np\n",
    "import matplotlib.pyplot as plt\n",
    "import seaborn as sns"
   ]
  },
  {
   "cell_type": "code",
   "execution_count": 2,
   "id": "94a5739a",
   "metadata": {},
   "outputs": [],
   "source": [
    "#reference: https://www.kaggle.com/code/huntz232/analisa-harga-properti-di-tebet-jakarta-selatan/input"
   ]
  },
  {
   "cell_type": "markdown",
   "id": "095de814",
   "metadata": {},
   "source": [
    "# Ekstrak Data"
   ]
  },
  {
   "cell_type": "code",
   "execution_count": 3,
   "id": "1585e53a",
   "metadata": {},
   "outputs": [
    {
     "data": {
      "text/html": [
       "<div>\n",
       "<style scoped>\n",
       "    .dataframe tbody tr th:only-of-type {\n",
       "        vertical-align: middle;\n",
       "    }\n",
       "\n",
       "    .dataframe tbody tr th {\n",
       "        vertical-align: top;\n",
       "    }\n",
       "\n",
       "    .dataframe thead th {\n",
       "        text-align: right;\n",
       "    }\n",
       "</style>\n",
       "<table border=\"1\" class=\"dataframe\">\n",
       "  <thead>\n",
       "    <tr style=\"text-align: right;\">\n",
       "      <th></th>\n",
       "      <th>HARGA</th>\n",
       "      <th>LT</th>\n",
       "      <th>LB</th>\n",
       "      <th>JKT</th>\n",
       "      <th>JKM</th>\n",
       "      <th>GRS</th>\n",
       "      <th>KOTA</th>\n",
       "    </tr>\n",
       "  </thead>\n",
       "  <tbody>\n",
       "    <tr>\n",
       "      <th>0</th>\n",
       "      <td>28000000000</td>\n",
       "      <td>1100</td>\n",
       "      <td>700</td>\n",
       "      <td>5</td>\n",
       "      <td>6</td>\n",
       "      <td>ADA</td>\n",
       "      <td>JAKSEL</td>\n",
       "    </tr>\n",
       "    <tr>\n",
       "      <th>1</th>\n",
       "      <td>19000000000</td>\n",
       "      <td>824</td>\n",
       "      <td>800</td>\n",
       "      <td>4</td>\n",
       "      <td>4</td>\n",
       "      <td>ADA</td>\n",
       "      <td>JAKSEL</td>\n",
       "    </tr>\n",
       "    <tr>\n",
       "      <th>2</th>\n",
       "      <td>4700000000</td>\n",
       "      <td>500</td>\n",
       "      <td>400</td>\n",
       "      <td>4</td>\n",
       "      <td>3</td>\n",
       "      <td>ADA</td>\n",
       "      <td>JAKSEL</td>\n",
       "    </tr>\n",
       "    <tr>\n",
       "      <th>3</th>\n",
       "      <td>4900000000</td>\n",
       "      <td>251</td>\n",
       "      <td>300</td>\n",
       "      <td>5</td>\n",
       "      <td>4</td>\n",
       "      <td>ADA</td>\n",
       "      <td>JAKSEL</td>\n",
       "    </tr>\n",
       "    <tr>\n",
       "      <th>4</th>\n",
       "      <td>28000000000</td>\n",
       "      <td>1340</td>\n",
       "      <td>575</td>\n",
       "      <td>4</td>\n",
       "      <td>5</td>\n",
       "      <td>ADA</td>\n",
       "      <td>JAKSEL</td>\n",
       "    </tr>\n",
       "    <tr>\n",
       "      <th>...</th>\n",
       "      <td>...</td>\n",
       "      <td>...</td>\n",
       "      <td>...</td>\n",
       "      <td>...</td>\n",
       "      <td>...</td>\n",
       "      <td>...</td>\n",
       "      <td>...</td>\n",
       "    </tr>\n",
       "    <tr>\n",
       "      <th>996</th>\n",
       "      <td>16000000000</td>\n",
       "      <td>488</td>\n",
       "      <td>550</td>\n",
       "      <td>6</td>\n",
       "      <td>5</td>\n",
       "      <td>ADA</td>\n",
       "      <td>JAKSEL</td>\n",
       "    </tr>\n",
       "    <tr>\n",
       "      <th>997</th>\n",
       "      <td>4500000000</td>\n",
       "      <td>209</td>\n",
       "      <td>270</td>\n",
       "      <td>4</td>\n",
       "      <td>4</td>\n",
       "      <td>ADA</td>\n",
       "      <td>JAKSEL</td>\n",
       "    </tr>\n",
       "    <tr>\n",
       "      <th>998</th>\n",
       "      <td>29000000000</td>\n",
       "      <td>692</td>\n",
       "      <td>400</td>\n",
       "      <td>4</td>\n",
       "      <td>3</td>\n",
       "      <td>TIDAK ADA</td>\n",
       "      <td>JAKSEL</td>\n",
       "    </tr>\n",
       "    <tr>\n",
       "      <th>999</th>\n",
       "      <td>1700000000</td>\n",
       "      <td>102</td>\n",
       "      <td>140</td>\n",
       "      <td>4</td>\n",
       "      <td>3</td>\n",
       "      <td>TIDAK ADA</td>\n",
       "      <td>JAKSEL</td>\n",
       "    </tr>\n",
       "    <tr>\n",
       "      <th>1000</th>\n",
       "      <td>1250000000</td>\n",
       "      <td>63</td>\n",
       "      <td>110</td>\n",
       "      <td>3</td>\n",
       "      <td>3</td>\n",
       "      <td>TIDAK ADA</td>\n",
       "      <td>JAKSEL</td>\n",
       "    </tr>\n",
       "  </tbody>\n",
       "</table>\n",
       "<p>1001 rows × 7 columns</p>\n",
       "</div>"
      ],
      "text/plain": [
       "            HARGA    LT   LB  JKT  JKM        GRS    KOTA\n",
       "0     28000000000  1100  700    5    6        ADA  JAKSEL\n",
       "1     19000000000   824  800    4    4        ADA  JAKSEL\n",
       "2      4700000000   500  400    4    3        ADA  JAKSEL\n",
       "3      4900000000   251  300    5    4        ADA  JAKSEL\n",
       "4     28000000000  1340  575    4    5        ADA  JAKSEL\n",
       "...           ...   ...  ...  ...  ...        ...     ...\n",
       "996   16000000000   488  550    6    5        ADA  JAKSEL\n",
       "997    4500000000   209  270    4    4        ADA  JAKSEL\n",
       "998   29000000000   692  400    4    3  TIDAK ADA  JAKSEL\n",
       "999    1700000000   102  140    4    3  TIDAK ADA  JAKSEL\n",
       "1000   1250000000    63  110    3    3  TIDAK ADA  JAKSEL\n",
       "\n",
       "[1001 rows x 7 columns]"
      ]
     },
     "execution_count": 3,
     "metadata": {},
     "output_type": "execute_result"
    }
   ],
   "source": [
    "data_df = pd.read_csv('./jaksel_rumah.csv')\n",
    "data_df "
   ]
  },
  {
   "cell_type": "code",
   "execution_count": 4,
   "id": "3bcb5ac0",
   "metadata": {},
   "outputs": [
    {
     "data": {
      "text/plain": [
       "(1001, 7)"
      ]
     },
     "execution_count": 4,
     "metadata": {},
     "output_type": "execute_result"
    }
   ],
   "source": [
    "data_df.shape"
   ]
  },
  {
   "cell_type": "code",
   "execution_count": 5,
   "id": "c5b12f35",
   "metadata": {},
   "outputs": [
    {
     "name": "stdout",
     "output_type": "stream",
     "text": [
      "<class 'pandas.core.frame.DataFrame'>\n",
      "RangeIndex: 1001 entries, 0 to 1000\n",
      "Data columns (total 7 columns):\n",
      " #   Column  Non-Null Count  Dtype \n",
      "---  ------  --------------  ----- \n",
      " 0   HARGA   1001 non-null   int64 \n",
      " 1   LT      1001 non-null   int64 \n",
      " 2   LB      1001 non-null   int64 \n",
      " 3   JKT     1001 non-null   int64 \n",
      " 4   JKM     1001 non-null   int64 \n",
      " 5   GRS     1001 non-null   object\n",
      " 6   KOTA    1001 non-null   object\n",
      "dtypes: int64(5), object(2)\n",
      "memory usage: 54.9+ KB\n"
     ]
    }
   ],
   "source": [
    "data_df.info()"
   ]
  },
  {
   "cell_type": "code",
   "execution_count": 6,
   "id": "f9519244",
   "metadata": {},
   "outputs": [
    {
     "data": {
      "text/html": [
       "<div>\n",
       "<style scoped>\n",
       "    .dataframe tbody tr th:only-of-type {\n",
       "        vertical-align: middle;\n",
       "    }\n",
       "\n",
       "    .dataframe tbody tr th {\n",
       "        vertical-align: top;\n",
       "    }\n",
       "\n",
       "    .dataframe thead th {\n",
       "        text-align: right;\n",
       "    }\n",
       "</style>\n",
       "<table border=\"1\" class=\"dataframe\">\n",
       "  <thead>\n",
       "    <tr style=\"text-align: right;\">\n",
       "      <th></th>\n",
       "      <th>HARGA</th>\n",
       "      <th>LT</th>\n",
       "      <th>LB</th>\n",
       "      <th>JKT</th>\n",
       "      <th>JKM</th>\n",
       "    </tr>\n",
       "  </thead>\n",
       "  <tbody>\n",
       "    <tr>\n",
       "      <th>count</th>\n",
       "      <td>1.001000e+03</td>\n",
       "      <td>1001.000000</td>\n",
       "      <td>1001.000000</td>\n",
       "      <td>1001.000000</td>\n",
       "      <td>1001.000000</td>\n",
       "    </tr>\n",
       "    <tr>\n",
       "      <th>mean</th>\n",
       "      <td>1.747472e+10</td>\n",
       "      <td>530.504496</td>\n",
       "      <td>487.275724</td>\n",
       "      <td>4.457542</td>\n",
       "      <td>3.940060</td>\n",
       "    </tr>\n",
       "    <tr>\n",
       "      <th>std</th>\n",
       "      <td>2.079548e+10</td>\n",
       "      <td>531.069773</td>\n",
       "      <td>452.872262</td>\n",
       "      <td>2.004606</td>\n",
       "      <td>1.903261</td>\n",
       "    </tr>\n",
       "    <tr>\n",
       "      <th>min</th>\n",
       "      <td>4.300000e+08</td>\n",
       "      <td>22.000000</td>\n",
       "      <td>38.000000</td>\n",
       "      <td>1.000000</td>\n",
       "      <td>1.000000</td>\n",
       "    </tr>\n",
       "    <tr>\n",
       "      <th>25%</th>\n",
       "      <td>6.750000e+09</td>\n",
       "      <td>220.000000</td>\n",
       "      <td>300.000000</td>\n",
       "      <td>4.000000</td>\n",
       "      <td>3.000000</td>\n",
       "    </tr>\n",
       "    <tr>\n",
       "      <th>50%</th>\n",
       "      <td>1.350000e+10</td>\n",
       "      <td>400.000000</td>\n",
       "      <td>411.000000</td>\n",
       "      <td>4.000000</td>\n",
       "      <td>4.000000</td>\n",
       "    </tr>\n",
       "    <tr>\n",
       "      <th>75%</th>\n",
       "      <td>2.000000e+10</td>\n",
       "      <td>677.000000</td>\n",
       "      <td>600.000000</td>\n",
       "      <td>5.000000</td>\n",
       "      <td>4.000000</td>\n",
       "    </tr>\n",
       "    <tr>\n",
       "      <th>max</th>\n",
       "      <td>2.500000e+11</td>\n",
       "      <td>6790.000000</td>\n",
       "      <td>10000.000000</td>\n",
       "      <td>27.000000</td>\n",
       "      <td>27.000000</td>\n",
       "    </tr>\n",
       "  </tbody>\n",
       "</table>\n",
       "</div>"
      ],
      "text/plain": [
       "              HARGA           LT            LB          JKT          JKM\n",
       "count  1.001000e+03  1001.000000   1001.000000  1001.000000  1001.000000\n",
       "mean   1.747472e+10   530.504496    487.275724     4.457542     3.940060\n",
       "std    2.079548e+10   531.069773    452.872262     2.004606     1.903261\n",
       "min    4.300000e+08    22.000000     38.000000     1.000000     1.000000\n",
       "25%    6.750000e+09   220.000000    300.000000     4.000000     3.000000\n",
       "50%    1.350000e+10   400.000000    411.000000     4.000000     4.000000\n",
       "75%    2.000000e+10   677.000000    600.000000     5.000000     4.000000\n",
       "max    2.500000e+11  6790.000000  10000.000000    27.000000    27.000000"
      ]
     },
     "execution_count": 6,
     "metadata": {},
     "output_type": "execute_result"
    }
   ],
   "source": [
    "data_df.describe()"
   ]
  },
  {
   "cell_type": "code",
   "execution_count": 7,
   "id": "1cd24078",
   "metadata": {},
   "outputs": [
    {
     "name": "stderr",
     "output_type": "stream",
     "text": [
      "c:\\Users\\asus\\anaconda3\\lib\\site-packages\\seaborn\\distributions.py:2619: FutureWarning: `distplot` is a deprecated function and will be removed in a future version. Please adapt your code to use either `displot` (a figure-level function with similar flexibility) or `histplot` (an axes-level function for histograms).\n",
      "  warnings.warn(msg, FutureWarning)\n"
     ]
    },
    {
     "data": {
      "text/plain": [
       "<AxesSubplot:xlabel='HARGA', ylabel='Density'>"
      ]
     },
     "execution_count": 7,
     "metadata": {},
     "output_type": "execute_result"
    },
    {
     "data": {
      "image/png": "[encoded data removed]",
      "text/plain": [
       "<Figure size 640x480 with 1 Axes>"
      ]
     },
     "metadata": {},
     "output_type": "display_data"
    }
   ],
   "source": [
    "sns.distplot(data_df['HARGA'])"
   ]
  },
  {
   "cell_type": "markdown",
   "id": "37bc6482",
   "metadata": {},
   "source": [
    "# Feature Enginering"
   ]
  },
  {
   "cell_type": "code",
   "execution_count": 9,
   "id": "d3b2ed07",
   "metadata": {},
   "outputs": [],
   "source": [
    "rumah_df = data_df.drop('KOTA', axis=1)"
   ]
  },
  {
   "cell_type": "code",
   "execution_count": 10,
   "id": "fb1f46f0",
   "metadata": {},
   "outputs": [],
   "source": [
    "rumah_df = pd.get_dummies(rumah_df, drop_first=True)"
   ]
  },
  {
   "cell_type": "code",
   "execution_count": 11,
   "id": "380fbfcf",
   "metadata": {},
   "outputs": [
    {
     "data": {
      "text/plain": [
       "(1001, 6)"
      ]
     },
     "execution_count": 11,
     "metadata": {},
     "output_type": "execute_result"
    }
   ],
   "source": [
    "rumah_df.shape"
   ]
  },
  {
   "cell_type": "code",
   "execution_count": 12,
   "id": "602d3afe",
   "metadata": {},
   "outputs": [
    {
     "data": {
      "text/html": [
       "<div>\n",
       "<style scoped>\n",
       "    .dataframe tbody tr th:only-of-type {\n",
       "        vertical-align: middle;\n",
       "    }\n",
       "\n",
       "    .dataframe tbody tr th {\n",
       "        vertical-align: top;\n",
       "    }\n",
       "\n",
       "    .dataframe thead th {\n",
       "        text-align: right;\n",
       "    }\n",
       "</style>\n",
       "<table border=\"1\" class=\"dataframe\">\n",
       "  <thead>\n",
       "    <tr style=\"text-align: right;\">\n",
       "      <th></th>\n",
       "      <th>HARGA</th>\n",
       "      <th>LT</th>\n",
       "      <th>LB</th>\n",
       "      <th>JKT</th>\n",
       "      <th>JKM</th>\n",
       "      <th>GRS_TIDAK ADA</th>\n",
       "    </tr>\n",
       "  </thead>\n",
       "  <tbody>\n",
       "    <tr>\n",
       "      <th>0</th>\n",
       "      <td>28000000000</td>\n",
       "      <td>1100</td>\n",
       "      <td>700</td>\n",
       "      <td>5</td>\n",
       "      <td>6</td>\n",
       "      <td>0</td>\n",
       "    </tr>\n",
       "    <tr>\n",
       "      <th>1</th>\n",
       "      <td>19000000000</td>\n",
       "      <td>824</td>\n",
       "      <td>800</td>\n",
       "      <td>4</td>\n",
       "      <td>4</td>\n",
       "      <td>0</td>\n",
       "    </tr>\n",
       "    <tr>\n",
       "      <th>2</th>\n",
       "      <td>4700000000</td>\n",
       "      <td>500</td>\n",
       "      <td>400</td>\n",
       "      <td>4</td>\n",
       "      <td>3</td>\n",
       "      <td>0</td>\n",
       "    </tr>\n",
       "    <tr>\n",
       "      <th>3</th>\n",
       "      <td>4900000000</td>\n",
       "      <td>251</td>\n",
       "      <td>300</td>\n",
       "      <td>5</td>\n",
       "      <td>4</td>\n",
       "      <td>0</td>\n",
       "    </tr>\n",
       "    <tr>\n",
       "      <th>4</th>\n",
       "      <td>28000000000</td>\n",
       "      <td>1340</td>\n",
       "      <td>575</td>\n",
       "      <td>4</td>\n",
       "      <td>5</td>\n",
       "      <td>0</td>\n",
       "    </tr>\n",
       "    <tr>\n",
       "      <th>...</th>\n",
       "      <td>...</td>\n",
       "      <td>...</td>\n",
       "      <td>...</td>\n",
       "      <td>...</td>\n",
       "      <td>...</td>\n",
       "      <td>...</td>\n",
       "    </tr>\n",
       "    <tr>\n",
       "      <th>996</th>\n",
       "      <td>16000000000</td>\n",
       "      <td>488</td>\n",
       "      <td>550</td>\n",
       "      <td>6</td>\n",
       "      <td>5</td>\n",
       "      <td>0</td>\n",
       "    </tr>\n",
       "    <tr>\n",
       "      <th>997</th>\n",
       "      <td>4500000000</td>\n",
       "      <td>209</td>\n",
       "      <td>270</td>\n",
       "      <td>4</td>\n",
       "      <td>4</td>\n",
       "      <td>0</td>\n",
       "    </tr>\n",
       "    <tr>\n",
       "      <th>998</th>\n",
       "      <td>29000000000</td>\n",
       "      <td>692</td>\n",
       "      <td>400</td>\n",
       "      <td>4</td>\n",
       "      <td>3</td>\n",
       "      <td>1</td>\n",
       "    </tr>\n",
       "    <tr>\n",
       "      <th>999</th>\n",
       "      <td>1700000000</td>\n",
       "      <td>102</td>\n",
       "      <td>140</td>\n",
       "      <td>4</td>\n",
       "      <td>3</td>\n",
       "      <td>1</td>\n",
       "    </tr>\n",
       "    <tr>\n",
       "      <th>1000</th>\n",
       "      <td>1250000000</td>\n",
       "      <td>63</td>\n",
       "      <td>110</td>\n",
       "      <td>3</td>\n",
       "      <td>3</td>\n",
       "      <td>1</td>\n",
       "    </tr>\n",
       "  </tbody>\n",
       "</table>\n",
       "<p>1001 rows × 6 columns</p>\n",
       "</div>"
      ],
      "text/plain": [
       "            HARGA    LT   LB  JKT  JKM  GRS_TIDAK ADA\n",
       "0     28000000000  1100  700    5    6              0\n",
       "1     19000000000   824  800    4    4              0\n",
       "2      4700000000   500  400    4    3              0\n",
       "3      4900000000   251  300    5    4              0\n",
       "4     28000000000  1340  575    4    5              0\n",
       "...           ...   ...  ...  ...  ...            ...\n",
       "996   16000000000   488  550    6    5              0\n",
       "997    4500000000   209  270    4    4              0\n",
       "998   29000000000   692  400    4    3              1\n",
       "999    1700000000   102  140    4    3              1\n",
       "1000   1250000000    63  110    3    3              1\n",
       "\n",
       "[1001 rows x 6 columns]"
      ]
     },
     "execution_count": 12,
     "metadata": {},
     "output_type": "execute_result"
    }
   ],
   "source": [
    "rumah_df"
   ]
  },
  {
   "cell_type": "code",
   "execution_count": 10,
   "id": "99f2963b",
   "metadata": {},
   "outputs": [],
   "source": [
    "num_feat = rumah_df.dtypes[rumah_df.dtypes != 'object'].index"
   ]
  },
  {
   "cell_type": "code",
   "execution_count": 11,
   "id": "d6eb7563",
   "metadata": {},
   "outputs": [
    {
     "data": {
      "text/plain": [
       "Index(['HARGA', 'LT', 'LB', 'JKT', 'JKM', 'GRS_TIDAK ADA'], dtype='object')"
      ]
     },
     "execution_count": 11,
     "metadata": {},
     "output_type": "execute_result"
    }
   ],
   "source": [
    "num_feat"
   ]
  },
  {
   "cell_type": "code",
   "execution_count": 12,
   "id": "02ba2ac2",
   "metadata": {},
   "outputs": [
    {
     "data": {
      "text/plain": [
       "<AxesSubplot:>"
      ]
     },
     "execution_count": 12,
     "metadata": {},
     "output_type": "execute_result"
    },
    {
     "data": {
      "image/png": "[encoded data removed]",
      "text/plain": [
       "<Figure size 800x600 with 2 Axes>"
      ]
     },
     "metadata": {},
     "output_type": "display_data"
    }
   ],
   "source": [
    "corr_mat = rumah_df[num_feat].corr()\n",
    "plt.subplots(figsize=(8,6))\n",
    "sns.heatmap(corr_mat, annot=True, square=True)"
   ]
  },
  {
   "cell_type": "markdown",
   "id": "ef3c8b03",
   "metadata": {},
   "source": [
    "# Data Cleansing"
   ]
  },
  {
   "cell_type": "code",
   "execution_count": 13,
   "id": "c16dbd43",
   "metadata": {},
   "outputs": [
    {
     "data": {
      "text/plain": [
       "False"
      ]
     },
     "execution_count": 13,
     "metadata": {},
     "output_type": "execute_result"
    }
   ],
   "source": [
    "rumah_df.isna().values.any()"
   ]
  },
  {
   "cell_type": "code",
   "execution_count": 14,
   "id": "3790cd84",
   "metadata": {},
   "outputs": [
    {
     "data": {
      "text/plain": [
       "True"
      ]
     },
     "execution_count": 14,
     "metadata": {},
     "output_type": "execute_result"
    }
   ],
   "source": [
    "rumah_df.duplicated().values.any()#.value_counts()"
   ]
  },
  {
   "cell_type": "code",
   "execution_count": 15,
   "id": "211c1e47",
   "metadata": {},
   "outputs": [
    {
     "data": {
      "text/plain": [
       "(931, 6)"
      ]
     },
     "execution_count": 15,
     "metadata": {},
     "output_type": "execute_result"
    }
   ],
   "source": [
    "rumah_df.drop_duplicates(inplace=True)\n",
    "rumah_df.shape"
   ]
  },
  {
   "cell_type": "markdown",
   "id": "3e4371a8",
   "metadata": {},
   "source": [
    "# Target Enginering"
   ]
  },
  {
   "cell_type": "code",
   "execution_count": 19,
   "id": "5009a63b",
   "metadata": {},
   "outputs": [
    {
     "data": {
      "text/plain": [
       "array([[<AxesSubplot:title={'center':'harga'}>,\n",
       "        <AxesSubplot:title={'center':'log_harga'}>]], dtype=object)"
      ]
     },
     "execution_count": 19,
     "metadata": {},
     "output_type": "execute_result"
    },
    {
     "data": {
      "image/png": "[encoded data removed]",
      "text/plain": [
       "<Figure size 640x480 with 2 Axes>"
      ]
     },
     "metadata": {},
     "output_type": "display_data"
    }
   ],
   "source": [
    "harga = pd.DataFrame({'harga': rumah_df['HARGA'], 'log_harga' : np.log1p(rumah_df['HARGA'])})\n",
    "harga.hist()"
   ]
  },
  {
   "cell_type": "code",
   "execution_count": 21,
   "id": "55a639c8",
   "metadata": {},
   "outputs": [],
   "source": [
    "rumah_df['HARGA'] = np.log1p(rumah_df['HARGA'])"
   ]
  },
  {
   "cell_type": "code",
   "execution_count": 23,
   "id": "a648947f",
   "metadata": {},
   "outputs": [],
   "source": [
    "#split features n target values\n",
    "X = rumah_df.drop('HARGA', axis=1)\n",
    "y = rumah_df['HARGA']"
   ]
  },
  {
   "cell_type": "code",
   "execution_count": 24,
   "id": "c1fb12e1",
   "metadata": {},
   "outputs": [],
   "source": [
    "from sklearn.linear_model import LinearRegression, RidgeCV, LassoCV\n",
    "from sklearn.model_selection import cross_val_score"
   ]
  },
  {
   "cell_type": "code",
   "execution_count": 25,
   "id": "1ee2aacc",
   "metadata": {},
   "outputs": [],
   "source": [
    "model_lr = LinearRegression()\n",
    "model_rg = RidgeCV(alphas=[1, 0.1, 0.01, 0.0005])\n",
    "model_ls = LassoCV(alphas=[1, 0.1, 0.01, 0.0005])"
   ]
  },
  {
   "cell_type": "code",
   "execution_count": 26,
   "id": "9abc7fce",
   "metadata": {},
   "outputs": [],
   "source": [
    "def cross_val_rmse(model):\n",
    "      return np.sqrt(-cross_val_score(model, X, y, cv=5, scoring='neg_mean_squared_error'))"
   ]
  },
  {
   "cell_type": "code",
   "execution_count": 27,
   "id": "6d28146b",
   "metadata": {},
   "outputs": [
    {
     "data": {
      "text/plain": [
       "0.7053616379882028"
      ]
     },
     "execution_count": 27,
     "metadata": {},
     "output_type": "execute_result"
    }
   ],
   "source": [
    "cross_val_rmse(model_lr).mean()"
   ]
  },
  {
   "cell_type": "code",
   "execution_count": 28,
   "id": "b04164ea",
   "metadata": {},
   "outputs": [
    {
     "data": {
      "text/plain": [
       "0.7053598543052727"
      ]
     },
     "execution_count": 28,
     "metadata": {},
     "output_type": "execute_result"
    }
   ],
   "source": [
    "cross_val_rmse(model_rg).mean()"
   ]
  },
  {
   "cell_type": "code",
   "execution_count": 29,
   "id": "fe94bd0d",
   "metadata": {},
   "outputs": [
    {
     "data": {
      "text/plain": [
       "0.705370832752854"
      ]
     },
     "execution_count": 29,
     "metadata": {},
     "output_type": "execute_result"
    }
   ],
   "source": [
    "cross_val_rmse(model_ls).mean()"
   ]
  },
  {
   "cell_type": "markdown",
   "id": "51740a44",
   "metadata": {},
   "source": [
    "# Check Important Feature"
   ]
  },
  {
   "cell_type": "code",
   "execution_count": 30,
   "id": "bcd5a3ae",
   "metadata": {},
   "outputs": [],
   "source": [
    "coef =pd.Series(model_rg.fit(X,y).coef_, index=X.columns)"
   ]
  },
  {
   "cell_type": "code",
   "execution_count": 31,
   "id": "b6cfa664",
   "metadata": {},
   "outputs": [],
   "source": [
    "imp_coef = pd.concat([coef.sort_values().head(10), coef.sort_values().tail(10)])"
   ]
  },
  {
   "cell_type": "code",
   "execution_count": 32,
   "id": "4fb0f3f4",
   "metadata": {},
   "outputs": [
    {
     "data": {
      "text/plain": [
       "<AxesSubplot:>"
      ]
     },
     "execution_count": 32,
     "metadata": {},
     "output_type": "execute_result"
    },
    {
     "data": {
      "image/png": "[encoded data removed]",
      "text/plain": [
       "<Figure size 640x480 with 1 Axes>"
      ]
     },
     "metadata": {},
     "output_type": "display_data"
    }
   ],
   "source": [
    "imp_coef.plot(kind='barh')"
   ]
  },
  {
   "cell_type": "code",
   "execution_count": 33,
   "id": "782311b4",
   "metadata": {},
   "outputs": [],
   "source": [
    "import pickle\n",
    "model_rg.fit(X,y)\n",
    "pickle.dump(model_rg,open('model_rg_rmh_jksl.pkl', 'wb'))"
   ]
  },
  {
   "cell_type": "code",
   "execution_count": null,
   "id": "b46bc2ce",
   "metadata": {},
   "outputs": [],
   "source": []
  }
 ],
 "metadata": {
  "kernelspec": {
   "display_name": "Python 3 (ipykernel)",
   "language": "python",
   "name": "python3"
  },
  "language_info": {
   "codemirror_mode": {
    "name": "ipython",
    "version": 3
   },
   "file_extension": ".py",
   "mimetype": "text/x-python",
   "name": "python",
   "nbconvert_exporter": "python",
   "pygments_lexer": "ipython3",
   "version": "3.9.13"
  },
  "vscode": {
   "interpreter": {
    "hash": "9c1d5a056f04d97314a9f946bc8c5185004572d3d68312220c0ba298420421f7"
   }
  }
 },
 "nbformat": 4,
 "nbformat_minor": 5
}
